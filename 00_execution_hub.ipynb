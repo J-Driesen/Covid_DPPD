{
 "cells": [
  {
   "cell_type": "code",
   "execution_count": 1,
   "metadata": {
    "scrolled": true
   },
   "outputs": [],
   "source": [
    "import nbformat\n",
    "from nbconvert.preprocessors import ExecutePreprocessor as EP"
   ]
  },
  {
   "cell_type": "code",
   "execution_count": 2,
   "metadata": {},
   "outputs": [],
   "source": [
    "# import os\n",
    "# os.listdir()"
   ]
  },
  {
   "cell_type": "code",
   "execution_count": 3,
   "metadata": {},
   "outputs": [],
   "source": [
    "notebooks = ['01_static_data_preparation.ipynb',\n",
    "             '02_infection_data_preparation.ipynb',\n",
    "             '03_mobility_data_preparation.ipynb',\n",
    "             '04_mobility_feature_creation.ipynb',\n",
    "             '05_target_and_prediction.ipynb']"
   ]
  },
  {
   "cell_type": "code",
   "execution_count": 4,
   "metadata": {},
   "outputs": [],
   "source": [
    "ep_ = EP(timeout=20000)"
   ]
  },
  {
   "cell_type": "code",
   "execution_count": 5,
   "metadata": {},
   "outputs": [
    {
     "name": "stdout",
     "output_type": "stream",
     "text": [
      "Execuction Error in 03_mobility_data_preparation.ipynb\n",
      "Execuction Error in 04_mobility_feature_creation.ipynb\n",
      "Execuction Error in 05_target_and_prediction.ipynb\n"
     ]
    }
   ],
   "source": [
    "for nb_file in notebooks:\n",
    "    with open(nb_file) as f:\n",
    "        nb = nbformat.read(f, nbformat.NO_CONVERT)\n",
    "        try:\n",
    "            ep_.preprocess(nb)\n",
    "        except:\n",
    "            print('Execuction Error in', nb_file)\n",
    "            "
   ]
  },
  {
   "cell_type": "code",
   "execution_count": null,
   "metadata": {},
   "outputs": [],
   "source": [
    "for nb_file in notebooks:\n",
    "    print('Now working on', nb_file)\n",
    "    with open(nb_file) as f:\n",
    "        nb = nbformat.read(f, nbformat.NO_CONVERT)\n",
    "        try:\n",
    "            ep_.preprocess(nb)\n",
    "        except:\n",
    "            print('Execuction Error in' nb_file)"
   ]
  }
 ],
 "metadata": {
  "kernelspec": {
   "display_name": "Python 3",
   "language": "python",
   "name": "python3"
  },
  "language_info": {
   "codemirror_mode": {
    "name": "ipython",
    "version": 3
   },
   "file_extension": ".py",
   "mimetype": "text/x-python",
   "name": "python",
   "nbconvert_exporter": "python",
   "pygments_lexer": "ipython3",
   "version": "3.8.3"
  }
 },
 "nbformat": 4,
 "nbformat_minor": 4
}
